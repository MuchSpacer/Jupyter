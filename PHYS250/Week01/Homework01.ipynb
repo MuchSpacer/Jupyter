{
 "cells": [
  {
   "cell_type": "code",
   "execution_count": 80,
   "id": "f527fe50-21e0-43d9-ac12-4e2bdb8ad569",
   "metadata": {},
   "outputs": [],
   "source": [
    "import numpy as np\n",
    "import scipy.optimize as opt"
   ]
  },
  {
   "cell_type": "code",
   "execution_count": 45,
   "id": "a908409d-da50-4e42-9b3b-2a7749321813",
   "metadata": {},
   "outputs": [
    {
     "data": {
      "text/plain": [
       "24.253496664211536"
      ]
     },
     "execution_count": 45,
     "metadata": {},
     "output_type": "execute_result"
    }
   ],
   "source": [
    "1 - np.log2(1e-7)"
   ]
  },
  {
   "cell_type": "code",
   "execution_count": 58,
   "id": "a0fc4386-0e9b-40aa-b30b-57b0f2838f36",
   "metadata": {},
   "outputs": [
    {
     "data": {
      "text/plain": [
       "54.05009993475029"
      ]
     },
     "execution_count": 58,
     "metadata": {},
     "output_type": "execute_result"
    }
   ],
   "source": [
    "-(np.log(1e-7/(8 + 4 * np.sqrt(2)))/np.log(np.sqrt(2)))"
   ]
  },
  {
   "cell_type": "code",
   "execution_count": 61,
   "id": "41d5f538-dee6-480d-9c76-6aa12e6e4ca9",
   "metadata": {},
   "outputs": [
    {
     "data": {
      "text/plain": [
       "50.82892142331043"
      ]
     },
     "execution_count": 61,
     "metadata": {},
     "output_type": "execute_result"
    }
   ],
   "source": [
    "1 - np.log2(1e-15)"
   ]
  },
  {
   "cell_type": "code",
   "execution_count": 62,
   "id": "435cdc6f-fe6e-4dfc-9e66-398377e8362d",
   "metadata": {},
   "outputs": [
    {
     "data": {
      "text/plain": [
       "107.20094945294808"
      ]
     },
     "execution_count": 62,
     "metadata": {},
     "output_type": "execute_result"
    }
   ],
   "source": [
    "-(np.log(1e-15/(8 + 4 * np.sqrt(2)))/np.log(np.sqrt(2)))"
   ]
  },
  {
   "cell_type": "code",
   "execution_count": 52,
   "id": "03e65570-dff9-4814-a2e3-12a800c201ef",
   "metadata": {},
   "outputs": [],
   "source": [
    "def geo_sum(A_1, r, N, diagnostic = False):\n",
    "    sum = 0\n",
    "    for i in range(N):\n",
    "        sum = sum + (A_1 * (r ** (i)))\n",
    "        if diagnostic:\n",
    "            print(f\"Step {i+1}, Sum: {sum}\")\n",
    "    return sum\n",
    "\n",
    "def sum_A(N):\n",
    "    return geo_sum(1, 1/2, N)\n",
    "\n",
    "def sum_P(N):\n",
    "    return geo_sum(4, 1/np.sqrt(2), N)\n",
    "\n",
    "def epsilon_A(N):\n",
    "    perfect = 2\n",
    "    sum = sum_A(N)\n",
    "    return abs(perfect - sum)\n",
    "\n",
    "def epsilon_P(N):\n",
    "    perfect = 8 + 8 / np.sqrt(2)\n",
    "    sum = sum_P(N)\n",
    "    return abs(perfect - sum)"
   ]
  },
  {
   "cell_type": "code",
   "execution_count": 53,
   "id": "02425419-75ac-4285-968e-b40396ec1e74",
   "metadata": {},
   "outputs": [],
   "source": [
    "assert(sum_A(1) == 1.0)\n",
    "assert(sum_A(2) == 1.5)\n",
    "assert(sum_A(3) == 1.75)\n",
    "\n",
    "assert(sum_P(1) == 4)\n",
    "assert(sum_P(2) == 4 + (4 / np.sqrt(2)))\n",
    "assert(sum_P(3) == 4 + 2 + (4 / np.sqrt(2)))"
   ]
  },
  {
   "cell_type": "code",
   "execution_count": 54,
   "id": "046cd067-577e-4aea-a356-1f4adb836026",
   "metadata": {
    "collapsed": true,
    "jupyter": {
     "outputs_hidden": true
    },
    "scrolled": true
   },
   "outputs": [
    {
     "name": "stdout",
     "output_type": "stream",
     "text": [
      "Step 1, Sum: 1.0\n",
      "Step 2, Sum: 1.5\n",
      "Step 3, Sum: 1.75\n",
      "Step 4, Sum: 1.875\n",
      "Step 5, Sum: 1.9375\n",
      "Step 6, Sum: 1.96875\n",
      "Step 7, Sum: 1.984375\n",
      "Step 8, Sum: 1.9921875\n",
      "Step 9, Sum: 1.99609375\n",
      "Step 10, Sum: 1.998046875\n"
     ]
    },
    {
     "data": {
      "text/plain": [
       "1.998046875"
      ]
     },
     "execution_count": 54,
     "metadata": {},
     "output_type": "execute_result"
    }
   ],
   "source": [
    "geo_sum(1, 1/2, 10, True)"
   ]
  },
  {
   "cell_type": "code",
   "execution_count": 63,
   "id": "270b1c8e-5224-4cbe-b81f-eea644442348",
   "metadata": {},
   "outputs": [
    {
     "name": "stdout",
     "output_type": "stream",
     "text": [
      "epsilon-A of N = 24: 1.1920928955078125e-07\n",
      "epsilon-A of N = 25: 5.960464477539063e-08\n",
      "epsilon-A of N = 51: 8.881784197001252e-16\n"
     ]
    }
   ],
   "source": [
    "print(f\"epsilon-A of N = 24: {epsilon_A(24)}\")\n",
    "print(f\"epsilon-A of N = 25: {epsilon_A(25)}\")\n",
    "print(f\"epsilon-A of N = 51: {epsilon_A(51)}\")"
   ]
  },
  {
   "cell_type": "code",
   "execution_count": 64,
   "id": "6ca16548-4a62-49a4-9256-1c28415278db",
   "metadata": {},
   "outputs": [
    {
     "name": "stdout",
     "output_type": "stream",
     "text": [
      "epsilon-P of N = 54: 1.0175149434132891e-07\n",
      "epsilon-P of N = 55: 7.19491719536336e-08\n",
      "epsilon-P of N = 108: 3.552713678800501e-15\n"
     ]
    }
   ],
   "source": [
    "print(f\"epsilon-P of N = 54: {epsilon_P(54)}\")\n",
    "print(f\"epsilon-P of N = 55: {epsilon_P(55)}\")\n",
    "print(f\"epsilon-P of N = 108: {epsilon_P(108)}\")"
   ]
  },
  {
   "cell_type": "code",
   "execution_count": 67,
   "id": "dd1dd310-78bd-42a9-ad20-f91208f8e608",
   "metadata": {},
   "outputs": [
    {
     "data": {
      "text/plain": [
       "24.089506111780587"
      ]
     },
     "execution_count": 67,
     "metadata": {},
     "output_type": "execute_result"
    }
   ],
   "source": [
    "np.degrees(np.arcsin(4/9.8))"
   ]
  },
  {
   "cell_type": "code",
   "execution_count": 78,
   "id": "ba9e33c3-93c2-425b-8544-0976bbd25d26",
   "metadata": {},
   "outputs": [],
   "source": [
    "def angleblock_x(t, w):\n",
    "    term1 = 9.8 / (4 * w **2)\n",
    "    term2 = np.e ** (w * t) - np.e ** (-w * t)\n",
    "    term3 = -2 * np.sin(w * t)\n",
    "    return term1 * (term2 + term3)"
   ]
  },
  {
   "cell_type": "code",
   "execution_count": 110,
   "id": "c24dd338-e052-4e25-ab6e-69b6f3507195",
   "metadata": {},
   "outputs": [],
   "source": [
    "def angleblock_wfinder(t0, x0, verbose = False, xtol = 1e-12, rtol = 8.881784197001252e-16, searchmin = 1e-2, searchmax = -1):\n",
    "    if (searchmax < 0):\n",
    "        searchmax = (np.pi / 2) / t0\n",
    "    def w_optimizer(w):\n",
    "        return angleblock_x(t0, w) - x0\n",
    "    root = opt.brentq(w_optimizer, searchmin, searchmax, full_output = verbose, xtol = xtol, rtol = rtol)\n",
    "    return root"
   ]
  },
  {
   "cell_type": "code",
   "execution_count": 100,
   "id": "ac20f578-3bd8-4a0a-bc52-dd62e1cf65b9",
   "metadata": {},
   "outputs": [
    {
     "name": "stdout",
     "output_type": "stream",
     "text": [
      "1.2212547973153451\n"
     ]
    }
   ],
   "source": [
    "opt_w = angleblock_wfinder(1, 2)\n",
    "print(opt_w)"
   ]
  },
  {
   "cell_type": "code",
   "execution_count": 102,
   "id": "9eb0bea4-1e64-4bef-bb1b-5bb0321a3aee",
   "metadata": {},
   "outputs": [
    {
     "name": "stdout",
     "output_type": "stream",
     "text": [
      "1.1102230246251565e-15\n"
     ]
    }
   ],
   "source": [
    "err = 2 - angleblock_x(1, opt_w)\n",
    "print(err)"
   ]
  },
  {
   "cell_type": "code",
   "execution_count": 104,
   "id": "d91df3a3-ce2f-4ed8-a995-f12bdfa2b5bb",
   "metadata": {},
   "outputs": [
    {
     "data": {
      "text/plain": [
       "0.3887374755348559"
      ]
     },
     "execution_count": 104,
     "metadata": {},
     "output_type": "execute_result"
    }
   ],
   "source": [
    "opt_w / np.pi"
   ]
  },
  {
   "cell_type": "code",
   "execution_count": 114,
   "id": "33b5d77c-c294-48ce-9190-ad384a9ab9eb",
   "metadata": {},
   "outputs": [
    {
     "name": "stdout",
     "output_type": "stream",
     "text": [
      "2.3612521534860105\n",
      "w-O = pi * 0.7516099042273626\n"
     ]
    }
   ],
   "source": [
    "nonsense_w = angleblock_wfinder(1, 4, searchmax = 4)\n",
    "print(nonsense_w)\n",
    "print(f\"w-O = pi * {nonsense_w / np.pi}\")"
   ]
  },
  {
   "cell_type": "code",
   "execution_count": 125,
   "id": "5bbae8ec-6163-4581-ae36-fe4c45759bfb",
   "metadata": {},
   "outputs": [
    {
     "name": "stdout",
     "output_type": "stream",
     "text": [
      "1.7573593128807143\n",
      "0.49258571550470853\n"
     ]
    }
   ],
   "source": [
    "def f(x): return np.sign(x - 2) * np.sqrt(np.abs(x - 2))\n",
    "\n",
    "x0 = 0\n",
    "x1 = 3\n",
    "x2 = 6 - 3 * np.sqrt(2)\n",
    "print(x2)\n",
    "print(np.sqrt(2 - x2))"
   ]
  },
  {
   "cell_type": "code",
   "execution_count": 124,
   "id": "65af9dd3-07da-4c4b-b8da-9c453f2186b5",
   "metadata": {},
   "outputs": [
    {
     "data": {
      "text/plain": [
       "-0.49258571550470853"
      ]
     },
     "execution_count": 124,
     "metadata": {},
     "output_type": "execute_result"
    }
   ],
   "source": [
    "f(x2)"
   ]
  },
  {
   "cell_type": "code",
   "execution_count": 128,
   "id": "54125145-3561-418f-93a6-4e58d339a9b9",
   "metadata": {},
   "outputs": [
    {
     "name": "stdout",
     "output_type": "stream",
     "text": [
      "2.167457738466233\n"
     ]
    }
   ],
   "source": [
    "x3 = x1 - (f(x1) * (x2 - x1)) / (f(x2) - f(x1))\n",
    "print(x3)"
   ]
  },
  {
   "cell_type": "code",
   "execution_count": 130,
   "id": "b8a02fe7-7d46-4736-9a3f-ae913bf9bd9c",
   "metadata": {},
   "outputs": [
    {
     "name": "stdout",
     "output_type": "stream",
     "text": [
      "1.9813649028883529\n"
     ]
    }
   ],
   "source": [
    "x4 = x2 - (f(x2) * (x3 - x2)) / (f(x3) - f(x2))\n",
    "print(x4)"
   ]
  },
  {
   "cell_type": "code",
   "execution_count": null,
   "id": "e9cd109d-1c9b-438c-8f5b-70b7134f0833",
   "metadata": {},
   "outputs": [],
   "source": []
  }
 ],
 "metadata": {
  "kernelspec": {
   "display_name": "Python 3 (ipykernel)",
   "language": "python",
   "name": "python3"
  },
  "language_info": {
   "codemirror_mode": {
    "name": "ipython",
    "version": 3
   },
   "file_extension": ".py",
   "mimetype": "text/x-python",
   "name": "python",
   "nbconvert_exporter": "python",
   "pygments_lexer": "ipython3",
   "version": "3.11.7"
  }
 },
 "nbformat": 4,
 "nbformat_minor": 5
}
