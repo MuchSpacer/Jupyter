{
 "cells": [
  {
   "cell_type": "markdown",
   "metadata": {},
   "source": [
    "# Lab 04 : Numerical Integration\n",
    "\n",
    "## Objectives\n",
    "\n",
    "In this lab we will study the extremely powerful integration routine provided for us in `scipy.integrate.quad`. Despite being extremely powerful, we can make it even better by performing mathematical transformations of the integrals we wish to evaluate. **This lab is an extension of the analytic work performed in Homework 04, Problem 1 and relies on some of those results.**\n",
    "\n",
    "We will study the simple pendulum. Despite being \"simple\", recall from introductory physics that we can only solve for the motion of small amplitude oscillations. Here we will study the full motion of the pendulum."
   ]
  },
  {
   "attachments": {},
   "cell_type": "markdown",
   "metadata": {},
   "source": [
    "## Initialization\n",
    "\n",
    "As always initialize, your environment now by loading all modules required and setting up the plotting environment. "
   ]
  },
  {
   "cell_type": "code",
   "execution_count": 1,
   "metadata": {
    "deletable": false,
    "nbgrader": {
     "cell_type": "code",
     "checksum": "d81ee7940ecdd9271d351db1a5c6aece",
     "grade": true,
     "grade_id": "cell-e619b145e7bb29a5",
     "locked": false,
     "points": 0,
     "schema_version": 3,
     "solution": true
    }
   },
   "outputs": [],
   "source": [
    "# YOUR CODE HERE\n",
    "import numpy as np \n",
    "import matplotlib.pyplot as plt\n",
    "import scipy.special as sf\n",
    "import scipy.integrate as integ\n",
    "\n",
    "import matplotlib as mpl\n",
    "mpl.rc('xtick', direction='in', top=True)\n",
    "mpl.rc('ytick', direction='in', right=True)\n",
    "mpl.rc('xtick.minor', visible=True)\n",
    "mpl.rc('ytick.minor', visible=True)\n",
    "plt.rcParams['axes.axisbelow'] = True\n"
   ]
  },
  {
   "cell_type": "markdown",
   "metadata": {},
   "source": [
    "## Pendulum Motion\n",
    "\n",
    "As seen in the homework, the period of the oscillations of a pendulum can be written in a few equivalent forms:\n",
    "\\begin{align}\n",
    "\\frac{T(\\theta_m)}{T_0} & = \\frac{\\sqrt 2}{\\pi} \\int_0^{\\theta_m} \\frac{\\mathrm{d}\\theta}{\\sqrt{\\cos\\theta-\\cos\\theta_m}}, \\\\\n",
    " & = \\frac{2}{\\pi} \\int_0^{\\pi/2} \\frac{\\mathrm{d}\\psi}{\\sqrt{1-\\sin^2(\\theta_m/2)\\sin^2\\psi}}, \\\\\n",
    " & = 1 + \\sum_{n=1}^\\infty a_{2n} \\sin^{2n}(\\theta_m/2).\n",
    "\\end{align}\n",
    "We will label the equation (1), (2), and (3), starting from the top most equation. For the series form, you have calculated the values of the coefficients up to $a_8$. We will explore all of these forms in this lab."
   ]
  },
  {
   "cell_type": "markdown",
   "metadata": {},
   "source": [
    "### Period Calculations\n",
    "\n",
    "Calculate the period using the three expressions above for $\\theta_m$ on a grid from 1 up to and including 179 degrees in steps of 1 degree. We are faced with the question \"to loop or not to loop\".\n",
    "\n",
    "For the two integrals (1) and (2) we could use `quad_vec`. To do so we would need to rewrite (1) so that $\\theta_m$ is not in the limits of integration. This is easy using a simple substitution. However, the integrand has a divergence at the upper limit and it seems that `quad_vec` does not handle this as well as `quad` does. The form in (2) can directly be used with `quad_vec`. In fact, the way we would naturally write the function can be used with an array of $\\theta_m$ values without any additional effort.\n",
    "\n",
    "For the series (3) we *could* avoid writing a loop, but we have not learned how to do so. It could be done using broadcasting and other properties `np.sum`, or using `np.einsum`, and presumably in other ways. Since we have not learned about that and since this really is not a performance critical calculation it will be acceptable to use a loop.\n",
    "\n",
    "Further, if we are already using a loop for some of the calculations, it is fine to use the same loop for all the calculations. As seen in the example this week, when we do need to write our own loops it is best to preallocate storage space for the results using `np.zeros` or `np.zeros_like`.\n",
    "\n",
    "After performing the calculations, produce a figure showing the period calculated from the three methods as a function of the pendulum amplitude."
   ]
  },
  {
   "cell_type": "code",
   "execution_count": 37,
   "metadata": {
    "deletable": false,
    "nbgrader": {
     "cell_type": "code",
     "checksum": "7062234069dba6bf8c72fe60b106d937",
     "grade": true,
     "grade_id": "cell-cc686d2ba2511819",
     "locked": false,
     "points": 20,
     "schema_version": 3,
     "solution": true
    }
   },
   "outputs": [],
   "source": [
    "# YOUR CODE HERE\n",
    "def standard_method(theta_m):\n",
    "    \n",
    "    coefficient = np.sqrt(2) / np.pi\n",
    "    \n",
    "    def standard_integrand(theta, theta_m_i):\n",
    "        return np.power((np.cos(theta) - np.cos(theta_m_i)), -0.5)\n",
    "\n",
    "    answer = np.zeros_like(theta_m)\n",
    "\n",
    "    for i in range(len(theta_m)):\n",
    "        answer[i] = coefficient * integ.quad(standard_integrand, 0, theta_m[i], theta_m[i])[0]\n",
    "    \n",
    "    return answer\n",
    "    \n",
    "def psi_substitution_method(theta_m):\n",
    "    \n",
    "    coefficient = 2 / np.pi\n",
    "    \n",
    "    def psi_substitution_integrand(psi):\n",
    "        return np.power(1 - np.power(np.sin(theta_m / 2) * np.sin(psi), 2), -0.5)\n",
    "        \n",
    "    answer = coefficient * integ.quad_vec(psi_substitution_integrand, 0, np.pi / 2)[0]\n",
    "    \n",
    "    return answer\n",
    "\n",
    "def pendulum_series(theta_m, n = 4):\n",
    "    theta_m_transpose = theta_m[:, np.newaxis]\n",
    "    sequence = np.full((len(theta_m), n), np.array(range(0,n)))\n",
    "    a = np.array([1/4, 9/64, 25/256, 2450/32768])\n",
    "    \n",
    "    sequence = a[sequence] * np.power(np.sin(theta_m_transpose/2), 2 * (sequence + 1))\n",
    "    return 1 + np.sum(sequence, 1)\n",
    "\n",
    "\n",
    "thetas = np.linspace(1, 179, 179)\n",
    "\n",
    "answer1 = standard_method(np.radians(thetas))\n",
    "answer2 = psi_substitution_method(np.radians(thetas))\n",
    "answer3 = pendulum_series(np.radians(thetas))"
   ]
  },
  {
   "cell_type": "code",
   "execution_count": 38,
   "metadata": {
    "collapsed": true,
    "jupyter": {
     "outputs_hidden": true,
     "source_hidden": true
    }
   },
   "outputs": [
    {
     "name": "stdout",
     "output_type": "stream",
     "text": [
      "[[ 1.  2.  3.]\n",
      " [ 2.  4.  6.]\n",
      " [ 3.  6.  9.]\n",
      " [ 4.  8. 12.]]\n"
     ]
    }
   ],
   "source": [
    "stest = np.empty((4, 3))\n",
    "atest = np.array([1/4, 9/64, 25/256, 2450/32768])\n",
    "\n",
    "for i in range(0, 4):\n",
    "    for j in range(0, 3):\n",
    "        stest[i][j] = (i + 1) * (j + 1)\n",
    "\n",
    "print(stest)"
   ]
  },
  {
   "cell_type": "code",
   "execution_count": 39,
   "metadata": {
    "collapsed": true,
    "jupyter": {
     "outputs_hidden": true,
     "source_hidden": true
    }
   },
   "outputs": [
    {
     "name": "stdout",
     "output_type": "stream",
     "text": [
      "[[0 1 2 3]\n",
      " [0 1 2 3]\n",
      " [0 1 2 3]]\n",
      "[[0.25       0.140625   0.09765625 0.07476807]\n",
      " [0.25       0.140625   0.09765625 0.07476807]\n",
      " [0.25       0.140625   0.09765625 0.07476807]]\n",
      "[0.        0.8660254 0.8660254]\n",
      "[[0.        ]\n",
      " [1.04719755]\n",
      " [2.0943951 ]]\n",
      "[[0.         0.         0.         0.        ]\n",
      " [0.25       0.0625     0.015625   0.00390625]\n",
      " [0.75       0.5625     0.421875   0.31640625]]\n"
     ]
    }
   ],
   "source": [
    "test2 = np.full((3,4), np.array(range(0,4)))\n",
    "minithetas = np.linspace(0, np.pi, 3, endpoint = False)\n",
    "print(test2)\n",
    "print(atest[test2])\n",
    "print(np.sin(minithetas))\n",
    "minithetasT = minithetas[:, np.newaxis]\n",
    "minithetasT2 = minithetas.T\n",
    "print(minithetasT)\n",
    "print(np.sin(minithetasT / 2) ** (2 * (test2 + 1)))"
   ]
  },
  {
   "cell_type": "code",
   "execution_count": 40,
   "metadata": {
    "collapsed": true,
    "jupyter": {
     "outputs_hidden": true,
     "source_hidden": true
    }
   },
   "outputs": [
    {
     "name": "stdout",
     "output_type": "stream",
     "text": [
      "[10. 20. 30.]\n",
      "[ 6. 12. 18. 24.]\n"
     ]
    }
   ],
   "source": [
    "print(np.sum(stest, 0))\n",
    "print(np.sum(stest, 1))"
   ]
  },
  {
   "cell_type": "code",
   "execution_count": 41,
   "metadata": {
    "collapsed": true,
    "jupyter": {
     "outputs_hidden": true,
     "source_hidden": true
    }
   },
   "outputs": [
    {
     "name": "stdout",
     "output_type": "stream",
     "text": [
      "[1.00001904 1.00007616 1.00017137 1.0003047  1.00047617 1.00068582\n",
      " 1.00093369 1.00121983 1.00154431 1.00190719 1.00230855 1.00274847\n",
      " 1.00322704 1.00374438 1.00430058 1.00489577 1.00553006 1.00620361\n",
      " 1.00691654 1.00766902 1.00846121 1.00929327 1.01016538 1.01107774\n",
      " 1.01203054 1.01302398 1.01405829 1.01513369 1.01625042 1.01740871\n",
      " 1.01860883 1.01985104 1.02113562 1.02246285 1.02383302 1.02524643\n",
      " 1.02670342 1.02820429 1.02974938 1.03133905 1.03297364 1.03465351\n",
      " 1.03637906 1.03815065 1.03996869 1.04183357 1.04374572 1.04570555\n",
      " 1.0477135  1.04977    1.0518755  1.05403045 1.05623533 1.05849058\n",
      " 1.06079669 1.06315414 1.06556341 1.06802498 1.07053935 1.073107\n",
      " 1.07572843 1.07840413 1.08113458 1.08392028 1.08676171 1.08965934\n",
      " 1.09261364 1.09562508 1.09869411 1.10182117 1.10500668 1.10825106\n",
      " 1.1115547  1.11491796 1.11834122 1.12182479 1.12536898 1.12897407\n",
      " 1.13264029 1.13636786 1.14015697 1.14400774 1.14792028 1.15189465\n",
      " 1.15593085 1.16002885 1.16418856 1.16840984 1.1726925  1.17703629\n",
      " 1.18144087 1.18590589 1.19043088 1.19501534 1.19965868 1.20436025\n",
      " 1.20911929 1.21393501 1.21880651 1.22373281 1.22871284 1.23374546\n",
      " 1.23882943 1.24396342 1.24914601 1.25437569 1.25965084 1.26496977\n",
      " 1.27033067 1.27573165 1.2811707  1.28664573 1.29215456 1.29769487\n",
      " 1.30326429 1.30886032 1.31448037 1.32012177 1.32578173 1.33145738\n",
      " 1.33714574 1.34284377 1.34854832 1.35425615 1.35996394 1.36566829\n",
      " 1.37136573 1.37705271 1.38272559 1.38838068 1.39401423 1.39962241\n",
      " 1.40520135 1.41074712 1.41625575 1.42172323 1.42714549 1.43251846\n",
      " 1.43783803 1.44310006 1.44830041 1.45343493 1.45849944 1.46348981\n",
      " 1.46840187 1.47323151 1.47797461 1.48262709 1.4871849  1.49164404\n",
      " 1.49600055 1.50025052 1.50439012 1.50841555 1.51232312 1.51610921\n",
      " 1.51977026 1.52330284 1.52670359 1.52996927 1.53309673 1.53608296\n",
      " 1.53892505 1.54162022 1.54416582 1.54655935 1.54879842 1.55088082\n",
      " 1.55280445 1.55456739 1.55616787 1.55760426 1.55887513 1.55997917\n",
      " 1.56091528 1.56168248 1.56228001 1.56270726 1.56296378]\n"
     ]
    }
   ],
   "source": [
    "print(answer3)"
   ]
  },
  {
   "cell_type": "code",
   "execution_count": 42,
   "metadata": {},
   "outputs": [
    {
     "data": {
      "text/plain": [
       "[<matplotlib.lines.Line2D at 0x1da8041b050>]"
      ]
     },
     "execution_count": 42,
     "metadata": {},
     "output_type": "execute_result"
    },
    {
     "data": {
      "image/png": "[encoded data removed]",
      "text/plain": [
       "<Figure size 640x480 with 1 Axes>"
      ]
     },
     "metadata": {},
     "output_type": "display_data"
    }
   ],
   "source": [
    "plt.plot(thetas, answer1)\n",
    "plt.plot(thetas, answer2)\n",
    "plt.plot(thetas, answer3)"
   ]
  },
  {
   "cell_type": "markdown",
   "metadata": {},
   "source": [
    "### Error in the Integrals\n",
    "\n",
    "You should find that the two integrals agree with each other, but that the series does not agree with the integrals when the initial amplitude is large. We will look at the series in more detail below. For now let us focus on the integrals; we want to carefully look at their accuracy. As noted in the homework, the integral *can* actually be performed in terms of a special function, the elliptic integral of the first kind,\n",
    "$$ \\frac{T(\\theta_m)}{T_0} = \\frac{2}{\\pi} K\\left[ \\sin^2\\left( \\frac{\\theta_m}{2} \\right) \\right]. $$\n",
    "The elliptic integral of the first kind can be accessed as `scipy.special.ellipk`. (*Note:* I have used a notation here consistent with SciPy, however, this is not universal. In other places you will find what we are calling $K(x^2)$ instead written as $K(x)$. In general, before using a special function you should verify the library is using the same conventions as you are!)\n",
    "\n",
    "We are going to produce another figure. Whenever multiple figures are produced using the same quantities you should always use the same line style or marker type, colors, *etc*. for the same quantity in each figure. This makes it much easier for the reader to connect the results among the figures. For example, this means that if you used purple horse shoes to represent the integral from Eq. (1) in your first figure, then you should also use purple horse shoes to represent the error in the integral from Eq. (1) in the figure you are about to create. (*Note:*  Do **not** use purple horse shoes as a marker.)"
   ]
  },
  {
   "cell_type": "markdown",
   "metadata": {},
   "source": [
    "Produce a figure showing the fractional error in the two integrals (1) and (2). You may get a warning when you create this plot and/or one of the curves may look strange."
   ]
  },
  {
   "cell_type": "code",
   "execution_count": 53,
   "metadata": {
    "deletable": false,
    "nbgrader": {
     "cell_type": "code",
     "checksum": "7653bb0946d07100669b67da33fbc2a9",
     "grade": true,
     "grade_id": "cell-86244b335ef9a569",
     "locked": false,
     "points": 7,
     "schema_version": 3,
     "solution": true
    }
   },
   "outputs": [
    {
     "data": {
      "text/plain": [
       "<matplotlib.legend.Legend at 0x1da820ca410>"
      ]
     },
     "execution_count": 53,
     "metadata": {},
     "output_type": "execute_result"
    },
    {
     "data": {
      "image/png": "[encoded data removed]",
      "text/plain": [
       "<Figure size 640x480 with 1 Axes>"
      ]
     },
     "metadata": {},
     "output_type": "display_data"
    }
   ],
   "source": [
    "# YOUR CODE HERE\n",
    "actuals = (2 / np.pi) * sf.ellipk(np.power(np.sin(np.radians(thetas) / 2), 2))\n",
    "\n",
    "def efrac(actual, expected):\n",
    "    return np.abs((actual - expected) / expected)\n",
    "\n",
    "err1 = efrac(answer1, actuals)\n",
    "err2 = efrac(answer2, actuals)\n",
    "err3 = efrac(answer3, actuals)\n",
    "\n",
    "plt.semilogy(thetas, err1, label=\"Method 1\")\n",
    "plt.semilogy(thetas, err2, label=\"Method 2\")\n",
    "plt.semilogy(thetas, err3, label=\"Method 3\")\n",
    "plt.legend()"
   ]
  },
  {
   "cell_type": "code",
   "execution_count": 51,
   "metadata": {},
   "outputs": [
    {
     "data": {
      "text/plain": [
       "[<matplotlib.lines.Line2D at 0x1da822390d0>]"
      ]
     },
     "execution_count": 51,
     "metadata": {},
     "output_type": "execute_result"
    },
    {
     "data": {
      "image/png": "[encoded data removed]",
      "text/plain": [
       "<Figure size 640x480 with 1 Axes>"
      ]
     },
     "metadata": {},
     "output_type": "display_data"
    }
   ],
   "source": [
    "plt.plot(thetas, actuals)"
   ]
  },
  {
   "cell_type": "markdown",
   "metadata": {},
   "source": [
    "The error from the integral in Eq. (2) should look strange. You may be worried that is incorrect. Explain the source of the strange behavior of this error curve. (*Hint:* Look at the actual numerical values of the errors, not just as they show up in the plot.)"
   ]
  },
  {
   "cell_type": "markdown",
   "metadata": {
    "deletable": false,
    "nbgrader": {
     "cell_type": "markdown",
     "checksum": "51cdf9e056223e0433c9ac35898d1396",
     "grade": true,
     "grade_id": "cell-1cc374e882ae0675",
     "locked": false,
     "points": 2,
     "schema_version": 3,
     "solution": true
    }
   },
   "source": [
    "YOUR ANSWER HERE"
   ]
  },
  {
   "cell_type": "markdown",
   "metadata": {},
   "source": [
    "### Series Formula\n",
    "\n",
    "Returning to the series form in (3) it is not surprising that it does a poor job at large amplitude, particularly since we truncate the sum after a few terms, at $a_8$. Explain why this is the case."
   ]
  },
  {
   "cell_type": "markdown",
   "metadata": {
    "deletable": false,
    "nbgrader": {
     "cell_type": "markdown",
     "checksum": "62ccd3a96d4448bab23efd58066d47ae",
     "grade": true,
     "grade_id": "cell-728232d1cc3ada4e",
     "locked": false,
     "points": 3,
     "schema_version": 3,
     "solution": true
    }
   },
   "source": [
    "YOUR ANSWER HERE"
   ]
  },
  {
   "cell_type": "markdown",
   "metadata": {},
   "source": [
    "For what amplitude $\\theta_m$ from the grid used above, does the fractional error in the period calculated using the series form (3) become larger than $10^{-10}$? (*Note:* The clever way to do this is to use the `where` function, though we have not discussed the `where` function yet so it is not necessary to use it here here. Instead, you can just look through the list of values and find the relevant one. We will learn about the `where` function in the near future. Also note that we want the **value of the amplitude, $\\theta_m$**, not the index number of where this occurs in the array you calculated.)"
   ]
  },
  {
   "cell_type": "code",
   "execution_count": 57,
   "metadata": {
    "deletable": false,
    "nbgrader": {
     "cell_type": "code",
     "checksum": "0008e6ee09a20cd628342574cbb1a537",
     "grade": true,
     "grade_id": "cell-b603af262dd1de89",
     "locked": false,
     "points": 4,
     "schema_version": 3,
     "solution": true
    }
   },
   "outputs": [
    {
     "data": {
      "text/plain": [
       "array([  0.,   0.,   0.,   0.,   0.,   0.,   0.,   0.,   0.,   0.,   0.,\n",
       "         0.,   0.,   0.,   0.,  16.,  17.,  18.,  19.,  20.,  21.,  22.,\n",
       "        23.,  24.,  25.,  26.,  27.,  28.,  29.,  30.,  31.,  32.,  33.,\n",
       "        34.,  35.,  36.,  37.,  38.,  39.,  40.,  41.,  42.,  43.,  44.,\n",
       "        45.,  46.,  47.,  48.,  49.,  50.,  51.,  52.,  53.,  54.,  55.,\n",
       "        56.,  57.,  58.,  59.,  60.,  61.,  62.,  63.,  64.,  65.,  66.,\n",
       "        67.,  68.,  69.,  70.,  71.,  72.,  73.,  74.,  75.,  76.,  77.,\n",
       "        78.,  79.,  80.,  81.,  82.,  83.,  84.,  85.,  86.,  87.,  88.,\n",
       "        89.,  90.,  91.,  92.,  93.,  94.,  95.,  96.,  97.,  98.,  99.,\n",
       "       100., 101., 102., 103., 104., 105., 106., 107., 108., 109., 110.,\n",
       "       111., 112., 113., 114., 115., 116., 117., 118., 119., 120., 121.,\n",
       "       122., 123., 124., 125., 126., 127., 128., 129., 130., 131., 132.,\n",
       "       133., 134., 135., 136., 137., 138., 139., 140., 141., 142., 143.,\n",
       "       144., 145., 146., 147., 148., 149., 150., 151., 152., 153., 154.,\n",
       "       155., 156., 157., 158., 159., 160., 161., 162., 163., 164., 165.,\n",
       "       166., 167., 168., 169., 170., 171., 172., 173., 174., 175., 176.,\n",
       "       177., 178., 179.])"
      ]
     },
     "execution_count": 57,
     "metadata": {},
     "output_type": "execute_result"
    }
   ],
   "source": [
    "# YOUR CODE HERE\n",
    "np.where(err3 > 1e-10, thetas, 0)"
   ]
  },
  {
   "cell_type": "markdown",
   "metadata": {},
   "source": [
    "## Analytic Manipulations\n",
    "\n",
    "You may wonder why we bothered to have two different integral forms for the period, (1) and (2). Since `quad` can handle divergent integrands it can, and does, give us good answers to the integral in Eq. (1), so why bother doing the analytic work to transform the integral? We found above that the transformed integral (2) did lead to smaller errors, so that is a benefit. Even more so, the transformed integral requires far less work to compute. Thus by doing a small mathematical manipulation (as you have done in the homework) we arrive at a much easier and much more accurate formula for the computer to evaluate.\n",
    "\n",
    "To verify this, calculate the period for $\\theta_m=97^\\circ$ using (1) and (2). Print the fractional errors and number of function evaluations required for each integral. Be amazed!"
   ]
  },
  {
   "cell_type": "code",
   "execution_count": null,
   "metadata": {
    "deletable": false,
    "nbgrader": {
     "cell_type": "code",
     "checksum": "43c18786e90ac973eb5b74c4bfe9cf19",
     "grade": true,
     "grade_id": "cell-4bed470401d8505d",
     "locked": false,
     "points": 4,
     "schema_version": 3,
     "solution": true
    }
   },
   "outputs": [],
   "source": [
    "# YOUR CODE HERE\n",
    "raise NotImplementedError()"
   ]
  },
  {
   "cell_type": "markdown",
   "metadata": {},
   "source": [
    "## Member Participation\n",
    "\n",
    "See Lab00 for instructions on turning in labs. We will follow this procedure the entire semester.\n",
    "\n",
    "In the following cell enter the *Case ID* for each student in the group who participated in this lab. Again, see Lab00 for more details. It is expected that you have read and understood those details."
   ]
  },
  {
   "cell_type": "markdown",
   "metadata": {},
   "source": []
  }
 ],
 "metadata": {
  "anaconda-cloud": {},
  "authors": [
   {
    "name": "Craig J Copi",
    "semester": "Spring 2019"
   }
  ],
  "kernelspec": {
   "display_name": "Python 3 (ipykernel)",
   "language": "python",
   "name": "python3"
  },
  "language_info": {
   "codemirror_mode": {
    "name": "ipython",
    "version": 3
   },
   "file_extension": ".py",
   "mimetype": "text/x-python",
   "name": "python",
   "nbconvert_exporter": "python",
   "pygments_lexer": "ipython3",
   "version": "3.11.7"
  }
 },
 "nbformat": 4,
 "nbformat_minor": 4
}
